{
 "cells": [
  {
   "cell_type": "code",
   "execution_count": null,
   "id": "27bbd92a",
   "metadata": {},
   "outputs": [],
   "source": [
    "import os\n",
    "from dotenv import load_dotenv \n",
    "load_dotenv()\n",
    "os.environ['OPENAI_API_KEY'] = os.getenv('OPENAI_API_KEY') or \"\""
   ]
  },
  {
   "cell_type": "code",
   "execution_count": null,
   "id": "a3bb1d74",
   "metadata": {},
   "outputs": [],
   "source": [
    "from langchain.chains import LLMChain\n",
    "from langchain.prompts import PromptTemplate\n",
    "# from langchain.llms import ollama\n",
    "# from langchain.llms import OpenAI\n",
    "from langchain_openai import ChatOpenAI\n"
   ]
  },
  {
   "cell_type": "code",
   "execution_count": 18,
   "id": "a55a99be",
   "metadata": {},
   "outputs": [],
   "source": [
    "prompt_template=\"I want to ans to any queations like you. So provide me the ans of the question {query} and ans it into the language {language}.\"\n",
    "prompts=PromptTemplate(input_variables=[\"query\",\"language\"],template=prompt_template)"
   ]
  },
  {
   "cell_type": "code",
   "execution_count": null,
   "id": "f2642b1e",
   "metadata": {},
   "outputs": [],
   "source": [
    "\n",
    "llm=ChatOpenAI(model=\"openai/o4-mini\",base_url=\"https://openrouter.ai/api/v1\", temperature=0.1)\n",
    "# llm=ollama.Ollama(model=\"deepseek-r1:1.5b\", temperature=0.9 )\n",
    "chains=LLMChain(llm=llm, prompt=prompts, verbose=True)"
   ]
  },
  {
   "cell_type": "code",
   "execution_count": 20,
   "id": "73874c59",
   "metadata": {},
   "outputs": [
    {
     "name": "stdout",
     "output_type": "stream",
     "text": [
      "\n",
      "\n",
      "\u001b[1m> Entering new LLMChain chain...\u001b[0m\n",
      "Prompt after formatting:\n",
      "\u001b[32;1m\u001b[1;3mI want to ans to any queations like you. So provide me the ans of the question what is langchain and ans it into the language hindi.\u001b[0m\n",
      "\n",
      "\u001b[1m> Finished chain.\u001b[0m\n"
     ]
    },
    {
     "data": {
      "text/plain": [
       "'LangChain एक ओपन-सोर्स फ्रेमवर्क है जो बड़े भाषा मॉडल (Large Language Models, LLMs) के साथ काम करने वाले एप्लिकेशन बनाने को सरल और मॉड्यूलर बनाता है। नीचे मुख्य अवधारणाएँ और घटक दिए गए हैं:\\n\\n1. उद्देश्\\u200dय  \\n   - भाषा मॉडल (जैसे OpenAI GPT, Hugging Face मॉडल आदि) को किसी वास्तविक दुनिया की समस्या (जैसे चैटबॉट, प्रश्न–उत्तर प्रणाली, दस्तावेज़ विश्लेषण) में लगाने में मदद करना।\\n\\n2. प्रमुख घटक  \\n   a. Prompt Templates  \\n      • प्रॉम्प्ट को पैरामीटराइज़ और रीयूज़ेबल बनाते हैं।  \\n      • उदाहरण: “Translate the following English text to Hindi: {text}”  \\n   b. Chains  \\n      • कई स्टेप्स (प्रॉम्प्ट → मॉडल → पोस्ट-प्रोसेसिंग) को'"
      ]
     },
     "execution_count": 20,
     "metadata": {},
     "output_type": "execute_result"
    }
   ],
   "source": [
    "chains.run({\"query\":\"what is langchain\",\"language\":\"hindi\"})"
   ]
  }
 ],
 "metadata": {
  "kernelspec": {
   "display_name": ".venv",
   "language": "python",
   "name": "python3"
  },
  "language_info": {
   "codemirror_mode": {
    "name": "ipython",
    "version": 3
   },
   "file_extension": ".py",
   "mimetype": "text/x-python",
   "name": "python",
   "nbconvert_exporter": "python",
   "pygments_lexer": "ipython3",
   "version": "3.11.5"
  }
 },
 "nbformat": 4,
 "nbformat_minor": 5
}
