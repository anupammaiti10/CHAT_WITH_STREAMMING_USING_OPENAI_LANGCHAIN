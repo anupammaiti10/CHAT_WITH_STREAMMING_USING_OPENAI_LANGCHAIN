{
 "cells": [
  {
   "cell_type": "markdown",
   "id": "7d157b00",
   "metadata": {},
   "source": [
    "LLMChaning example "
   ]
  },
  {
   "cell_type": "code",
   "execution_count": null,
   "id": "93104404",
   "metadata": {},
   "outputs": [
    {
     "data": {
      "text/plain": [
       "True"
      ]
     },
     "execution_count": 1,
     "metadata": {},
     "output_type": "execute_result"
    }
   ],
   "source": [
    "import os\n",
    "from dotenv import load_dotenv \n",
    "load_dotenv()\n",
    "os.environ['OPENAI_API_KEY'] = os.getenv('OPENAI_API_KEY') or \"\""
   ]
  },
  {
   "cell_type": "code",
   "execution_count": 7,
   "id": "8ffe7f20",
   "metadata": {},
   "outputs": [],
   "source": [
    "# print(os.getenv('OPENAI_API_KEY'))"
   ]
  },
  {
   "cell_type": "code",
   "execution_count": 2,
   "id": "007038be",
   "metadata": {},
   "outputs": [
    {
     "name": "stderr",
     "output_type": "stream",
     "text": [
      "C:\\Users\\Anupam Maiti\\AppData\\Local\\Temp\\ipykernel_13396\\625507702.py:16: LangChainDeprecationWarning: The class `LLMChain` was deprecated in LangChain 0.1.17 and will be removed in 1.0. Use :meth:`~RunnableSequence, e.g., `prompt | llm`` instead.\n",
      "  chains=LLMChain(llm=llm, prompt=prompts, output_key=\"output\", verbose=True)\n"
     ]
    }
   ],
   "source": [
    "from langchain.chains import LLMChain\n",
    "from langchain.prompts import PromptTemplate\n",
    "# from langchain.llms import ollama\n",
    "# from langchain.llms import OpenAI\n",
    "from langchain_openai import ChatOpenAI\n",
    "\n",
    "prompts=PromptTemplate(\n",
    "    input_variables=[\"query\"],\n",
    "    template= \" what is the {query}\",\n",
    "    \n",
    ")\n",
    "\n",
    "llm=ChatOpenAI(model=\"openai/gpt-4.1\",base_url=\"https://models.github.ai/inference\", temperature=0.1)\n",
    "# llm=OpenAI(model=\"openai/o4-mini\",base_url=\"https://openrouter.ai/api/v1\", temperature=0.1)\n",
    "# llm=ollama.Ollama(model=\"deepseek-r1:1.5b\", temperature=0.9 )\n",
    "chains=LLMChain(llm=llm, prompt=prompts, output_key=\"output\", verbose=True)"
   ]
  },
  {
   "cell_type": "code",
   "execution_count": 3,
   "id": "437466a7",
   "metadata": {},
   "outputs": [
    {
     "name": "stdout",
     "output_type": "stream",
     "text": [
      " what is the india\n"
     ]
    }
   ],
   "source": [
    "prompt = prompts.format(query=\"india\")\n",
    "print(prompt)  # Should output: \"Please tell me the capital of France\""
   ]
  },
  {
   "cell_type": "code",
   "execution_count": 4,
   "id": "6e0bcbb4",
   "metadata": {},
   "outputs": [
    {
     "name": "stderr",
     "output_type": "stream",
     "text": [
      "C:\\Users\\Anupam Maiti\\AppData\\Local\\Temp\\ipykernel_13396\\4189127818.py:2: LangChainDeprecationWarning: The method `Chain.run` was deprecated in langchain 0.1.0 and will be removed in 1.0. Use :meth:`~invoke` instead.\n",
      "  result = chains.run({\"query\": \"capital of France\"})\n"
     ]
    },
    {
     "name": "stdout",
     "output_type": "stream",
     "text": [
      "\n",
      "\n",
      "\u001b[1m> Entering new LLMChain chain...\u001b[0m\n",
      "Prompt after formatting:\n",
      "\u001b[32;1m\u001b[1;3m what is the capital of France\u001b[0m\n",
      "\n",
      "\u001b[1m> Finished chain.\u001b[0m\n",
      "The capital of France is Paris.\n"
     ]
    }
   ],
   "source": [
    "# Step 3: Run the chain with an input\n",
    "result = chains.run({\"query\": \"capital of France\"})\n",
    "print(result)  # Output: \"The capital of France is Paris.\""
   ]
  },
  {
   "cell_type": "markdown",
   "id": "310ba651",
   "metadata": {},
   "source": [
    "SimpleSequential Chaining of Operations**"
   ]
  },
  {
   "cell_type": "code",
   "execution_count": 5,
   "id": "bde8dd54",
   "metadata": {},
   "outputs": [],
   "source": [
    "capital_prompt= PromptTemplate(\n",
    "    input_variables=[\"country\"],\n",
    "    template= \"what is the capital {country}\",\n",
    "    \n",
    ")\n",
    "capital_chain=LLMChain(llm=llm, prompt=capital_prompt, output_key=\"capital\", verbose=True) # Output stored as \"capital\"\n",
    "\n",
    "place_prompt=PromptTemplate(\n",
    "    input_variables=[\"capital\"],\n",
    "    template=\"what is the place where {capital} is located\",\n",
    ")\n",
    "place_chain=LLMChain(llm=llm, prompt=place_prompt, output_key=\"output\", verbose=True)\n",
    "\n",
    " "
   ]
  },
  {
   "cell_type": "code",
   "execution_count": 6,
   "id": "f70bbe80",
   "metadata": {},
   "outputs": [
    {
     "name": "stdout",
     "output_type": "stream",
     "text": [
      "\n",
      "\n",
      "\u001b[1m> Entering new SimpleSequentialChain chain...\u001b[0m\n",
      "\n",
      "\n",
      "\u001b[1m> Entering new LLMChain chain...\u001b[0m\n",
      "Prompt after formatting:\n",
      "\u001b[32;1m\u001b[1;3mwhat is the capital India\u001b[0m\n",
      "\n",
      "\u001b[1m> Finished chain.\u001b[0m\n",
      "\u001b[36;1m\u001b[1;3mThe capital of India is **New Delhi**.\u001b[0m\n",
      "\n",
      "\n",
      "\u001b[1m> Entering new LLMChain chain...\u001b[0m\n",
      "Prompt after formatting:\n",
      "\u001b[32;1m\u001b[1;3mwhat is the place where The capital of India is **New Delhi**. is located\u001b[0m\n",
      "\n",
      "\u001b[1m> Finished chain.\u001b[0m\n",
      "\u001b[33;1m\u001b[1;3mThe capital of India, **New Delhi**, is located in the northern part of the country. It is a district within the larger city of **Delhi**, which is officially known as the **National Capital Territory of Delhi (NCT)**. New Delhi serves as the seat of all three branches of the Government of India: the executive, the legislature, and the judiciary.\n",
      "\n",
      "**Geographical Location:**\n",
      "- **Latitude:** Approximately 28.6139° N\n",
      "- **Longitude:** Approximately 77.2090° E\n",
      "\n",
      "**Summary:**  \n",
      "**New Delhi** is located within the **National Capital Territory of Delhi**, in northern India.\u001b[0m\n",
      "\n",
      "\u001b[1m> Finished chain.\u001b[0m\n",
      "The capital of India, **New Delhi**, is located in the northern part of the country. It is a district within the larger city of **Delhi**, which is officially known as the **National Capital Territory of Delhi (NCT)**. New Delhi serves as the seat of all three branches of the Government of India: the executive, the legislature, and the judiciary.\n",
      "\n",
      "**Geographical Location:**\n",
      "- **Latitude:** Approximately 28.6139° N\n",
      "- **Longitude:** Approximately 77.2090° E\n",
      "\n",
      "**Summary:**  \n",
      "**New Delhi** is located within the **National Capital Territory of Delhi**, in northern India.\n"
     ]
    }
   ],
   "source": [
    "from langchain.chains import SimpleSequentialChain\n",
    "# Create a sequential chain that first finds the capital and then finds the place\n",
    "simple_chain= SimpleSequentialChain(chains=[capital_chain, place_chain],   verbose=True)\n",
    "# Run the sequential chain with an input\n",
    "\n",
    "result = simple_chain.run({\"input\": \"India\"})\n",
    "print(result)  # Output: \"The capital"
   ]
  },
  {
   "cell_type": "markdown",
   "id": "c00c3975",
   "metadata": {},
   "source": [
    "Sequential chaining  "
   ]
  },
  {
   "cell_type": "code",
   "execution_count": 8,
   "id": "9e7d3fc7",
   "metadata": {},
   "outputs": [],
   "source": [
    "from langchain.chains import SequentialChain\n",
    "\n",
    "chain = SequentialChain(\n",
    "    chains=[capital_chain, place_chain],\n",
    "    input_variables=[\"country\"],  # Initial input\n",
    "    output_variables=[\"capital\", \"output\"],  # Final outputs\n",
    "    verbose=True,\n",
    ")"
   ]
  },
  {
   "cell_type": "code",
   "execution_count": 9,
   "id": "105fbfd6",
   "metadata": {},
   "outputs": [
    {
     "name": "stderr",
     "output_type": "stream",
     "text": [
      "C:\\Users\\Anupam Maiti\\AppData\\Local\\Temp\\ipykernel_13396\\1911137727.py:1: LangChainDeprecationWarning: The method `Chain.__call__` was deprecated in langchain 0.1.0 and will be removed in 1.0. Use :meth:`~invoke` instead.\n",
      "  chain({'country':\"India\"})\n"
     ]
    },
    {
     "name": "stdout",
     "output_type": "stream",
     "text": [
      "\n",
      "\n",
      "\u001b[1m> Entering new SequentialChain chain...\u001b[0m\n",
      "\n",
      "\n",
      "\u001b[1m> Entering new LLMChain chain...\u001b[0m\n",
      "Prompt after formatting:\n",
      "\u001b[32;1m\u001b[1;3mwhat is the capital India\u001b[0m\n",
      "\n",
      "\u001b[1m> Finished chain.\u001b[0m\n",
      "\n",
      "\n",
      "\u001b[1m> Entering new LLMChain chain...\u001b[0m\n",
      "Prompt after formatting:\n",
      "\u001b[32;1m\u001b[1;3mwhat is the place where The capital of India is **New Delhi**. is located\u001b[0m\n",
      "\n",
      "\u001b[1m> Finished chain.\u001b[0m\n",
      "\n",
      "\u001b[1m> Finished chain.\u001b[0m\n"
     ]
    },
    {
     "data": {
      "text/plain": [
       "{'country': 'India',\n",
       " 'capital': 'The capital of India is **New Delhi**.',\n",
       " 'output': 'The capital of India, **New Delhi**, is located in the **National Capital Territory of Delhi (NCT of Delhi)**, in northern India. New Delhi is a district within the larger metropolis of Delhi and serves as the seat of all three branches of the Government of India.'}"
      ]
     },
     "execution_count": 9,
     "metadata": {},
     "output_type": "execute_result"
    }
   ],
   "source": [
    "chain({'country':\"India\"})"
   ]
  },
  {
   "cell_type": "markdown",
   "id": "8374db7d",
   "metadata": {},
   "source": [
    "# LangChain provides several memory options:\n",
    "    # ConversationBufferMemory: Stores raw chat history.\n",
    "    # ConversationSummaryMemory: Stores summarized chat history (good for long conversations).\n",
    "    # ConversationBufferWindowMemory: Keeps only the last k messages.\n",
    "    # EntityMemory: Remembers entities (e.g., people, places) across conversations."
   ]
  },
  {
   "cell_type": "code",
   "execution_count": 10,
   "id": "7df26466",
   "metadata": {},
   "outputs": [
    {
     "name": "stderr",
     "output_type": "stream",
     "text": [
      "C:\\Users\\Anupam Maiti\\AppData\\Local\\Temp\\ipykernel_13396\\205733047.py:3: LangChainDeprecationWarning: Please see the migration guide at: https://python.langchain.com/docs/versions/migrating_memory/\n",
      "  country_memory = ConversationBufferMemory(input_key='country', memory_key='country_history')\n"
     ]
    }
   ],
   "source": [
    "from langchain.memory import ConversationBufferMemory\n",
    "\n",
    "country_memory = ConversationBufferMemory(input_key='country', memory_key='country_history')\n",
    "capital_memory = ConversationBufferMemory(input_key='capital', memory_key='capital_history')\n"
   ]
  },
  {
   "cell_type": "code",
   "execution_count": 11,
   "id": "8b1e9dde",
   "metadata": {},
   "outputs": [],
   "source": [
    "capital_prompt= PromptTemplate(\n",
    "    input_variables=[\"country\"],\n",
    "    template= \"what is the capital {country}\",\n",
    " \n",
    ")\n",
    "capital_chain=LLMChain(llm=llm, prompt=capital_prompt, output_key=\"capital\",memory=country_memory, verbose=True) # Output stored as \"capital\"\n",
    "\n",
    "place_prompt=PromptTemplate(\n",
    "    input_variables=[\"capital\"],\n",
    "    template=\"what is the place where {capital} is located\",\n",
    ")\n",
    "place_chain=LLMChain(llm=llm, prompt=place_prompt, output_key=\"output\",memory=capital_memory, verbose=True)\n",
    "\n",
    " "
   ]
  },
  {
   "cell_type": "code",
   "execution_count": 12,
   "id": "6e2d8e16",
   "metadata": {},
   "outputs": [],
   "source": [
    "from langchain.chains import SequentialChain\n",
    "\n",
    "chain = SequentialChain(\n",
    "    chains=[capital_chain, place_chain],\n",
    "    input_variables=[\"country\"],  # Initial input\n",
    "    output_variables=[\"capital\", \"output\"],  # Final outputs\n",
    "    verbose=True,\n",
    ")"
   ]
  },
  {
   "cell_type": "code",
   "execution_count": 13,
   "id": "51d4f985",
   "metadata": {},
   "outputs": [
    {
     "name": "stdout",
     "output_type": "stream",
     "text": [
      "\n",
      "\n",
      "\u001b[1m> Entering new SequentialChain chain...\u001b[0m\n",
      "\n",
      "\n",
      "\u001b[1m> Entering new LLMChain chain...\u001b[0m\n",
      "Prompt after formatting:\n",
      "\u001b[32;1m\u001b[1;3mwhat is the capital India\u001b[0m\n",
      "\n",
      "\u001b[1m> Finished chain.\u001b[0m\n",
      "\n",
      "\n",
      "\u001b[1m> Entering new LLMChain chain...\u001b[0m\n",
      "Prompt after formatting:\n",
      "\u001b[32;1m\u001b[1;3mwhat is the place where The capital of India is **New Delhi**. is located\u001b[0m\n",
      "\n",
      "\u001b[1m> Finished chain.\u001b[0m\n",
      "\n",
      "\u001b[1m> Finished chain.\u001b[0m\n"
     ]
    },
    {
     "data": {
      "text/plain": [
       "{'country': 'India',\n",
       " 'capital': 'The capital of India is **New Delhi**.',\n",
       " 'output': 'The capital of India, **New Delhi**, is located in the northern part of the country. It is a district within the larger city of **Delhi**, which is officially known as the **National Capital Territory of Delhi (NCT)**. New Delhi serves as the seat of all three branches of the Government of India: the executive, the legislature, and the judiciary.\\n\\n**Geographical Location:**\\n- **Latitude:** Approximately 28.6139° N\\n- **Longitude:** Approximately 77.2090° E\\n\\n**Region:** Northern India\\n\\n**Surrounding States:** New Delhi is bordered by the states of Haryana and Uttar Pradesh.\\n\\n**Summary:**  \\n**New Delhi** is located within the National Capital Territory of Delhi, in northern India.'}"
      ]
     },
     "execution_count": 13,
     "metadata": {},
     "output_type": "execute_result"
    }
   ],
   "source": [
    "chain({'country':\"India\"})"
   ]
  },
  {
   "cell_type": "code",
   "execution_count": 14,
   "id": "22ad79f0",
   "metadata": {},
   "outputs": [
    {
     "name": "stdout",
     "output_type": "stream",
     "text": [
      "\n",
      "\n",
      "\u001b[1m> Entering new SequentialChain chain...\u001b[0m\n",
      "\n",
      "\n",
      "\u001b[1m> Entering new LLMChain chain...\u001b[0m\n",
      "Prompt after formatting:\n",
      "\u001b[32;1m\u001b[1;3mwhat is the capital ans the previous one\u001b[0m\n",
      "\n",
      "\u001b[1m> Finished chain.\u001b[0m\n",
      "\n",
      "\n",
      "\u001b[1m> Entering new LLMChain chain...\u001b[0m\n",
      "Prompt after formatting:\n",
      "\u001b[32;1m\u001b[1;3mwhat is the place where It looks like your question is a bit unclear. Are you asking:\n",
      "\n",
      "1. **What is the capital of a specific country, and what was its previous capital?**\n",
      "2. **What is the capital answer and the previous one (in a quiz context)?**\n",
      "\n",
      "Could you please clarify which country or context you are referring to? If you specify the country or context, I can provide the capital and its previous one. is located\u001b[0m\n",
      "\n",
      "\u001b[1m> Finished chain.\u001b[0m\n",
      "\n",
      "\u001b[1m> Finished chain.\u001b[0m\n"
     ]
    },
    {
     "data": {
      "text/plain": [
       "{'country': 'ans the previous one',\n",
       " 'capital': 'It looks like your question is a bit unclear. Are you asking:\\n\\n1. **What is the capital of a specific country, and what was its previous capital?**\\n2. **What is the capital answer and the previous one (in a quiz context)?**\\n\\nCould you please clarify which country or context you are referring to? If you specify the country or context, I can provide the capital and its previous one.',\n",
       " 'output': 'It looks like your question is incomplete or got mixed up. You wrote:\\n\\n> what is the place where It looks like your question is a bit unclear. Are you asking: ...\\n\\nCould you please clarify what you are asking? For example:\\n\\n- Are you asking about the location of a specific place?\\n- Are you asking about the capital city of a country and its previous capital?\\n- Or are you referring to something else?\\n\\nIf you provide more details or specify the country, city, or context, I’ll be happy to help!'}"
      ]
     },
     "execution_count": 14,
     "metadata": {},
     "output_type": "execute_result"
    }
   ],
   "source": [
    "chain({'country':\"ans the previous one\"})"
   ]
  },
  {
   "cell_type": "code",
   "execution_count": 15,
   "id": "55c573ec",
   "metadata": {},
   "outputs": [
    {
     "data": {
      "text/plain": [
       "'Human: India\\nAI: The capital of India is **New Delhi**.\\nHuman: ans the previous one\\nAI: It looks like your question is a bit unclear. Are you asking:\\n\\n1. **What is the capital of a specific country, and what was its previous capital?**\\n2. **What is the capital answer and the previous one (in a quiz context)?**\\n\\nCould you please clarify which country or context you are referring to? If you specify the country or context, I can provide the capital and its previous one.'"
      ]
     },
     "execution_count": 15,
     "metadata": {},
     "output_type": "execute_result"
    }
   ],
   "source": [
    "\n",
    "country_memory.buffer"
   ]
  },
  {
   "cell_type": "markdown",
   "id": "f79fa1ae",
   "metadata": {},
   "source": [
    "ChatModels and ChatOpenAI"
   ]
  },
  {
   "cell_type": "code",
   "execution_count": 18,
   "id": "80fe40c4",
   "metadata": {},
   "outputs": [],
   "source": [
    "from langchain.chat_models import ChatOpenAI\n",
    "from langchain.schema import HumanMessage, SystemMessage, AIMessage\n",
    "llm_model=ChatOpenAI(model=\"openai/gpt-4.1\",base_url=\"https://models.github.ai/inference\", temperature=0.1)"
   ]
  },
  {
   "cell_type": "code",
   "execution_count": 20,
   "id": "d54658d3",
   "metadata": {},
   "outputs": [
    {
     "data": {
      "text/plain": [
       "AIMessage(content='The capital of India is New Delhi.', additional_kwargs={}, response_metadata={'token_usage': {'completion_tokens': 9, 'prompt_tokens': 23, 'total_tokens': 32, 'completion_tokens_details': {'accepted_prediction_tokens': 0, 'audio_tokens': 0, 'reasoning_tokens': 0, 'rejected_prediction_tokens': 0}, 'prompt_tokens_details': {'audio_tokens': 0, 'cached_tokens': 0}}, 'model_name': 'openai/gpt-4.1', 'system_fingerprint': 'fp_07e970ab25', 'finish_reason': 'stop', 'logprobs': None}, id='run--ef356ba1-12cb-4c1d-9f7b-5918a7cc8dc5-0')"
      ]
     },
     "execution_count": 20,
     "metadata": {},
     "output_type": "execute_result"
    }
   ],
   "source": [
    "llm_model([\n",
    "    SystemMessage(content=\"You are the helpful assistant \"),\n",
    "    HumanMessage(content=\"What is the capital of India\"),\n",
    "])"
   ]
  }
 ],
 "metadata": {
  "kernelspec": {
   "display_name": ".venv",
   "language": "python",
   "name": "python3"
  },
  "language_info": {
   "codemirror_mode": {
    "name": "ipython",
    "version": 3
   },
   "file_extension": ".py",
   "mimetype": "text/x-python",
   "name": "python",
   "nbconvert_exporter": "python",
   "pygments_lexer": "ipython3",
   "version": "3.11.5"
  }
 },
 "nbformat": 4,
 "nbformat_minor": 5
}
